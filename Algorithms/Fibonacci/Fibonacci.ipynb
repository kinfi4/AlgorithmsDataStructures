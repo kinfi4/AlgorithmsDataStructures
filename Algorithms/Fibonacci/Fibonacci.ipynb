{
 "cells": [
  {
   "cell_type": "markdown",
   "id": "865a454c",
   "metadata": {},
   "source": [
    "### Ряд Фибоначчи - это такая последовательность чисел, в которой любое число, кроме пе рвого и второго , является суммой двух предыдущих:  \n",
    "\n",
    "    0, 1, 1, 2, 3, 5, 8, 13, 21 ..."
   ]
  },
  {
   "cell_type": "code",
   "execution_count": 2,
   "id": "352fa244",
   "metadata": {},
   "outputs": [
    {
     "data": {
      "text/plain": [
       "3"
      ]
     },
     "execution_count": 2,
     "metadata": {},
     "output_type": "execute_result"
    }
   ],
   "source": [
    "def fibonacci1(n: int):\n",
    "    return n if n < 2 else fibonacci1(n - 1) + fibonacci1(n - 2)\n",
    "\n",
    "\n",
    "fibonacci1(4)  # 1 1 2 3"
   ]
  },
  {
   "cell_type": "markdown",
   "id": "3e359892",
   "metadata": {},
   "source": [
    "Можно использовать алгоритм с **мемоизацией**.    \n",
    "\n",
    "__Мемоизация__ - это метод, при котором сохраняются результаты выполненных вы­\n",
    "числений, так что, когда они снова понадобятся, их можно найти, вместо того чтобы\n",
    "вычислять во второй"
   ]
  },
  {
   "cell_type": "code",
   "execution_count": 3,
   "id": "4ed44be2",
   "metadata": {},
   "outputs": [
    {
     "name": "stdout",
     "output_type": "stream",
     "text": [
      "CPU times: user 12.2 ms, sys: 98 µs, total: 12.3 ms\n",
      "Wall time: 11.9 ms\n",
      "CPU times: user 35 µs, sys: 7 µs, total: 42 µs\n",
      "Wall time: 50.3 µs\n"
     ]
    },
    {
     "data": {
      "text/plain": [
       "6765"
      ]
     },
     "execution_count": 3,
     "metadata": {},
     "output_type": "execute_result"
    }
   ],
   "source": [
    "CACHE = {0: 0, 1: 1}\n",
    "\n",
    "def fibonacci2(n: int):\n",
    "    if n not in CACHE:\n",
    "        CACHE[n] = fibonacci2(n - 1) + fibonacci2(n - 2)\n",
    "        \n",
    "    return CACHE[n]\n",
    "\n",
    "   \n",
    "\n",
    "%time fibonacci1(20)\n",
    "%time fibonacci2(20)"
   ]
  },
  {
   "cell_type": "markdown",
   "id": "93a6c69e",
   "metadata": {},
   "source": [
    "Можно использовать lru_cache"
   ]
  },
  {
   "cell_type": "code",
   "execution_count": 4,
   "id": "5bb04e94",
   "metadata": {},
   "outputs": [
    {
     "name": "stdout",
     "output_type": "stream",
     "text": [
      "CPU times: user 8 µs, sys: 2 µs, total: 10 µs\n",
      "Wall time: 17.4 µs\n",
      "CPU times: user 48 µs, sys: 0 ns, total: 48 µs\n",
      "Wall time: 57.7 µs\n"
     ]
    },
    {
     "data": {
      "text/plain": [
       "6765"
      ]
     },
     "execution_count": 4,
     "metadata": {},
     "output_type": "execute_result"
    }
   ],
   "source": [
    "from functools import lru_cache\n",
    "\n",
    "\n",
    "@lru_cache(maxsize=None)\n",
    "def fibonacci3(n):\n",
    "    if n < 2:\n",
    "        return n\n",
    "    \n",
    "    return fibonacci3(n - 1) + fibonacci3(n - 2)\n",
    "\n",
    "\n",
    "%time fibonacci2(20)\n",
    "%time fibonacci3(20)"
   ]
  },
  {
   "cell_type": "code",
   "execution_count": 5,
   "id": "4a8946b3",
   "metadata": {},
   "outputs": [],
   "source": [
    "def fibonacci_generator(n):\n",
    "    yield 0\n",
    "    \n",
    "    last, new = 1, 1\n",
    "    \n",
    "    for _ in range(n):\n",
    "        yield last\n",
    "        last, new = new, last + new\n",
    "\n",
    "        \n",
    "# for i in fibonacci_generator(150):\n",
    "#     print(i)"
   ]
  },
  {
   "cell_type": "markdown",
   "id": "e35a49e6",
   "metadata": {},
   "source": [
    "Ну и наконец тут оставлю два эффективных решения этой проблемы. Первое напишу с помощью numpy второе вручную."
   ]
  },
  {
   "cell_type": "code",
   "execution_count": 6,
   "id": "0dc493c0",
   "metadata": {},
   "outputs": [],
   "source": [
    "#    ######################################\n",
    "#    ## The problem here is that numpy   ## \n",
    "#    ## doesn't support long arithmetic  ##\n",
    "#    ## by default, so lets implement    ##\n",
    "#    ## custom matrix multiplication     ##\n",
    "#    ######################################\n",
    "\n",
    "\n",
    "import numpy as np\n",
    "\n",
    "\n",
    "def find_n_fibonacci_number(n: int):\n",
    "    matrix = np.array([[1, 1], [1, 0]])\n",
    "    result = matrix.copy()\n",
    "\n",
    "    for _ in range(n):\n",
    "        result = result.dot(matrix)\n",
    "\n",
    "    return result[0, 0]"
   ]
  },
  {
   "cell_type": "code",
   "execution_count": 7,
   "id": "8f05b060",
   "metadata": {},
   "outputs": [
    {
     "name": "stdout",
     "output_type": "stream",
     "text": [
      "CPU times: user 0 ns, sys: 1.15 ms, total: 1.15 ms\n",
      "Wall time: 834 µs\n",
      "CPU times: user 0 ns, sys: 79 µs, total: 79 µs\n",
      "Wall time: 86.5 µs\n"
     ]
    },
    {
     "data": {
      "text/plain": [
       "573147844013817084101"
      ]
     },
     "execution_count": 7,
     "metadata": {},
     "output_type": "execute_result"
    }
   ],
   "source": [
    "def multiply_matrix(mat1, mat2):\n",
    "    return [\n",
    "        [mat1[0][0]*mat2[0][0] + mat1[0][1]*mat2[1][0], mat1[0][0]*mat2[0][1] + mat1[0][1]*mat2[1][1]],\n",
    "        [mat1[1][0]*mat2[0][0] + mat1[1][1]*mat2[1][0], mat1[0][1]*mat2[0][1] + mat1[1][1]*mat2[1][1]]\n",
    "    ]\n",
    "\n",
    "\n",
    "def binary_degree(matrix, degree):\n",
    "    if degree == 1:\n",
    "        return matrix\n",
    "    elif degree % 2 == 0:\n",
    "        result = binary_degree(matrix, degree / 2)\n",
    "        return multiply_matrix(result, result)\n",
    "    else:\n",
    "        return multiply_matrix(binary_degree(matrix, degree - 1), matrix)\n",
    "\n",
    "\n",
    "def find_n_fibonacci_number_custom_martix(n: int):\n",
    "    if n <= 0:\n",
    "        return 1\n",
    "    \n",
    "    matrix = [[1, 1], [1, 0]]\n",
    "    return binary_degree(matrix, n)[0][0]\n",
    "\n",
    "\n",
    "%time find_n_fibonacci_number(100)\n",
    "%time find_n_fibonacci_number_custom_martix(100)"
   ]
  }
 ],
 "metadata": {
  "kernelspec": {
   "display_name": "Python 3",
   "language": "python",
   "name": "python3"
  },
  "varInspector": {
   "cols": {
    "lenName": 16,
    "lenType": 16,
    "lenVar": 40
   },
   "kernels_config": {
    "python": {
     "delete_cmd_postfix": "",
     "delete_cmd_prefix": "del ",
     "library": "var_list.py",
     "varRefreshCmd": "print(var_dic_list())"
    },
    "r": {
     "delete_cmd_postfix": ") ",
     "delete_cmd_prefix": "rm(",
     "library": "var_list.r",
     "varRefreshCmd": "cat(var_dic_list()) "
    }
   },
   "types_to_exclude": [
    "module",
    "function",
    "builtin_function_or_method",
    "instance",
    "_Feature"
   ],
   "window_display": false
  }
 },
 "nbformat": 4,
 "nbformat_minor": 5
}
