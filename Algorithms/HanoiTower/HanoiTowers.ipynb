{
 "cells": [
  {
   "cell_type": "markdown",
   "id": "026ea0ac",
   "metadata": {},
   "source": [
    "## Hanoi Towers\n",
    "\n",
    "Пускай есть три \"башни\" A, B и C. На А нанизаны обручи разной ширины, так что внизу самый широкий, вверху самый узкий. Наша цель - переместить диски с башни А на башню С, учитывая следующие ограничения.  \n",
    "\n",
    "    - Диски можно перемещать только по одному.\n",
    "    - Единственный доступный для перемещения диск - тот, что расположен наверху\n",
    "    - Более широкий диск никогда не может располагаться поверх более узкого."
   ]
  },
  {
   "cell_type": "markdown",
   "id": "accaae37",
   "metadata": {},
   "source": [
    "Алгоритм рекурсивный, и если подумать то выглядит так:    \n",
    "\n",
    "    - База это у нас когда всего один диск, тогда его нужно\n",
    "            переместить сразу на конец\n",
    "            \n",
    "    - Иначе нужно переместить n-1 диск на временную башню B, через С\n",
    "    \n",
    "    - И когда самый большой уже будет на башне С, переместить\n",
    "            остальные n-1 на С через А"
   ]
  },
  {
   "cell_type": "code",
   "execution_count": 9,
   "id": "27a2ec34",
   "metadata": {},
   "outputs": [
    {
     "name": "stdout",
     "output_type": "stream",
     "text": [
      "deque([])\n",
      "----------------------------------------\n",
      "deque([])\n",
      "----------------------------------------\n",
      "deque([1, 2, 3, 4, 5, 6, 7, 8, 9])\n"
     ]
    }
   ],
   "source": [
    "from collections import deque\n",
    "\n",
    "\n",
    "def hanoi(start: deque, end: deque, temp: deque, current_block):\n",
    "    if current_block == 1:\n",
    "        end.append(start.pop())\n",
    "    else:\n",
    "        hanoi(start, temp, end, current_block - 1)\n",
    "        hanoi(start, end, temp, 1)\n",
    "        hanoi(temp, end, start, current_block - 1)\n",
    "    \n",
    "\n",
    "tower_a, tower_b, tower_c = deque(), deque(), deque()\n",
    "for i in range(1, 10):\n",
    "    tower_a.append(i)\n",
    "\n",
    "hanoi(tower_a, tower_c, tower_b, 9)\n",
    "print(tower_a, end='\\n' + '-'*40 + '\\n')\n",
    "print(tower_b, end='\\n' + '-'*40 + '\\n')\n",
    "print(tower_c)"
   ]
  }
 ],
 "metadata": {
  "kernelspec": {
   "display_name": "Python 3",
   "language": "python",
   "name": "python3"
  },
  "language_info": {
   "codemirror_mode": {
    "name": "ipython",
    "version": 3
   },
   "file_extension": ".py",
   "mimetype": "text/x-python",
   "name": "python",
   "nbconvert_exporter": "python",
   "pygments_lexer": "ipython3",
   "version": "3.8.8"
  },
  "varInspector": {
   "cols": {
    "lenName": 16,
    "lenType": 16,
    "lenVar": 40
   },
   "kernels_config": {
    "python": {
     "delete_cmd_postfix": "",
     "delete_cmd_prefix": "del ",
     "library": "var_list.py",
     "varRefreshCmd": "print(var_dic_list())"
    },
    "r": {
     "delete_cmd_postfix": ") ",
     "delete_cmd_prefix": "rm(",
     "library": "var_list.r",
     "varRefreshCmd": "cat(var_dic_list()) "
    }
   },
   "types_to_exclude": [
    "module",
    "function",
    "builtin_function_or_method",
    "instance",
    "_Feature"
   ],
   "window_display": false
  }
 },
 "nbformat": 4,
 "nbformat_minor": 5
}
