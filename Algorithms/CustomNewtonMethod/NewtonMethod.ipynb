{
 "cells": [
  {
   "cell_type": "markdown",
   "metadata": {},
   "source": [
    "# Метод Ньютона\n",
    "Метод Ньютона, это итерационный численный метод нахождения корня (нуля) заданной функции.   \n",
    "\n",
    "Работает очень просто, вот формула:\n",
    "______________________"
   ]
  },
  {
   "cell_type": "markdown",
   "metadata": {},
   "source": [
    "$$ \\large x_{n+1} = x_{n} - \\frac{f(x_{n})}{f'(x_{n})} $$"
   ]
  },
  {
   "cell_type": "code",
   "execution_count": 1,
   "metadata": {},
   "outputs": [],
   "source": [
    "import numpy as np\n",
    "import matplotlib.pyplot as plt"
   ]
  },
  {
   "cell_type": "code",
   "execution_count": 9,
   "metadata": {},
   "outputs": [],
   "source": [
    "class NewtonMethod:\n",
    "    def __init__(self):\n",
    "        pass\n",
    "    \n",
    "    def function(self, x):\n",
    "        return np.cos(x) - x**3\n",
    "    \n",
    "    def gradient(self, x):\n",
    "        return -np.sin(x) - 3 * x**2\n",
    "    \n",
    "    def build_plot(self):\n",
    "        X = np.linspace(-2, 2, 100)\n",
    "        Y = self.function(X)\n",
    "        \n",
    "        plt.axhline(color='black', lw=0.5)\n",
    "        plt.axvline(color='black', lw=0.5)\n",
    "\n",
    "        \n",
    "        plt.plot(X, Y)\n",
    "        plt.show()\n",
    "    \n",
    "    def run(self):\n",
    "        x0 = np.random.rand( )\n",
    "        for _ in range(10):\n",
    "            x0 -= self.function(x0) / self.gradient(x0)\n",
    "        \n",
    "        return x0"
   ]
  },
  {
   "cell_type": "code",
   "execution_count": 11,
   "metadata": {},
   "outputs": [
    {
     "data": {
      "image/png": "[encoded data removed]",
      "text/plain": [
       "<Figure size 432x288 with 1 Axes>"
      ]
     },
     "metadata": {
      "needs_background": "light"
     },
     "output_type": "display_data"
    }
   ],
   "source": [
    "nm = NewtonMethod()\n",
    "nm.build_plot()\n",
    "\n",
    "zero = nm.run()"
   ]
  },
  {
   "cell_type": "code",
   "execution_count": 12,
   "metadata": {},
   "outputs": [
    {
     "data": {
      "text/plain": [
       "0.8654740331016144"
      ]
     },
     "execution_count": 12,
     "metadata": {},
     "output_type": "execute_result"
    }
   ],
   "source": [
    "zero"
   ]
  }
 ],
 "metadata": {
  "kernelspec": {
   "display_name": "Python 3",
   "language": "python",
   "name": "python3"
  },
  "language_info": {
   "codemirror_mode": {
    "name": "ipython",
    "version": 3
   },
   "file_extension": ".py",
   "mimetype": "text/x-python",
   "name": "python",
   "nbconvert_exporter": "python",
   "pygments_lexer": "ipython3",
   "version": "3.8.5"
  }
 },
 "nbformat": 4,
 "nbformat_minor": 4
}
