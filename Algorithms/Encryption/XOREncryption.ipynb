{
 "cells": [
  {
   "cell_type": "markdown",
   "id": "240c9566",
   "metadata": {},
   "source": [
    "## XOR Encryption\n",
    "\n",
    "XOR - логическая операция что возвращает true если операторы разные, и false если они одинаковые. В Python XOR обозначают как знаком ^ (1 ^ 0 = 1).   \n",
    "\n",
    "У этой операции есть одна полезная особенность, что показана ниже.\n",
    "\n",
    "    - A ^ B = C\n",
    "    - C ^ A = B\n",
    "    - C ^ B = A"
   ]
  },
  {
   "cell_type": "code",
   "execution_count": 19,
   "id": "94fe7291",
   "metadata": {},
   "outputs": [
    {
     "data": {
      "text/plain": [
       "1868478344203497636499593166391931194068164102841376642047882004024342914130483670273220196417818445831623314938952716006523164584179542997787057315049325008204068433951359451037379309268803637411354910040377792086590467637731165953862402584"
      ]
     },
     "execution_count": 19,
     "metadata": {},
     "output_type": "execute_result"
    }
   ],
   "source": [
    "from secrets import token_bytes\n",
    "\n",
    "\n",
    "def generate_random_bytes_token(length):\n",
    "    token = token_bytes(length)\n",
    "    return int.from_bytes(token, 'big')  # В душе не ему что такое big, но без него не работает\n",
    "\n",
    "\n",
    "generate_random_bytes_token(100)"
   ]
  },
  {
   "cell_type": "code",
   "execution_count": 30,
   "id": "0a0d4a98",
   "metadata": {},
   "outputs": [],
   "source": [
    "def encrypt(original: str):\n",
    "    original_bytes = original.encode()\n",
    "    original_key = int.from_bytes(original_bytes, 'big') # Получаем число со строки\n",
    "    \n",
    "    dummy = generate_random_bytes_token(len(original_bytes))\n",
    "    \n",
    "    xor_result = original_key ^ dummy\n",
    "    return dummy, xor_result\n",
    "\n",
    "\n",
    "text = 'hello world, how you feeling, am ok. It would take too much time for me to type much text, lets stop here'\n",
    "result = encrypt(text)"
   ]
  },
  {
   "cell_type": "code",
   "execution_count": 33,
   "id": "239a7a32",
   "metadata": {},
   "outputs": [
    {
     "data": {
      "text/plain": [
       "'hello world, how you feeling, am ok. It would take too much time for me to type much text, lets stop here'"
      ]
     },
     "execution_count": 33,
     "metadata": {},
     "output_type": "execute_result"
    }
   ],
   "source": [
    "def decrypt(key1: int, key2: int):\n",
    "    decoded_result = key1 ^ key2\n",
    "    result: bytes = decoded_result.to_bytes((decoded_result.bit_length() + 7) // 8, 'big')\n",
    "        # decoded_result.to_bytes должен принимать длинну байтов, но у нас есть только\n",
    "        # длинна в битах, поэтому и нужна эта порнография с [+ 7 // 8]\n",
    "    return result.decode()\n",
    "\n",
    "\n",
    "decrypt(*result)"
   ]
  }
 ],
 "metadata": {
  "kernelspec": {
   "display_name": "Python 3",
   "language": "python",
   "name": "python3"
  },
  "language_info": {
   "codemirror_mode": {
    "name": "ipython",
    "version": 3
   },
   "file_extension": ".py",
   "mimetype": "text/x-python",
   "name": "python",
   "nbconvert_exporter": "python",
   "pygments_lexer": "ipython3",
   "version": "3.8.8"
  },
  "varInspector": {
   "cols": {
    "lenName": 16,
    "lenType": 16,
    "lenVar": 40
   },
   "kernels_config": {
    "python": {
     "delete_cmd_postfix": "",
     "delete_cmd_prefix": "del ",
     "library": "var_list.py",
     "varRefreshCmd": "print(var_dic_list())"
    },
    "r": {
     "delete_cmd_postfix": ") ",
     "delete_cmd_prefix": "rm(",
     "library": "var_list.r",
     "varRefreshCmd": "cat(var_dic_list()) "
    }
   },
   "types_to_exclude": [
    "module",
    "function",
    "builtin_function_or_method",
    "instance",
    "_Feature"
   ],
   "window_display": false
  }
 },
 "nbformat": 4,
 "nbformat_minor": 5
}
